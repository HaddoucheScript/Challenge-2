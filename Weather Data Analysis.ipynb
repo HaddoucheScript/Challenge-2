{
 "cells": [
  {
   "cell_type": "code",
   "execution_count": 20,
   "id": "4018d6e2-136f-44c2-9e94-04e4cdb07491",
   "metadata": {},
   "outputs": [
    {
     "data": {
      "text/plain": [
       "2094"
      ]
     },
     "execution_count": 20,
     "metadata": {},
     "output_type": "execute_result"
    }
   ],
   "source": [
    "class Patient:\n",
    "\n",
    "    def __init__(self,a,name):\n",
    "        #\"Patient's age\"\n",
    "        self.age =a \n",
    "        self.name = name\n",
    "\n",
    "    def yearh(self):\n",
    "        #\"The year when the patient will be 100\"\n",
    "        year =2124-self.age\n",
    "        return year\n",
    "P1= Patient(30,'Svidrigailov')\n",
    "P1.yearh()\n",
    "\n",
    "    "
   ]
  },
  {
   "cell_type": "code",
   "execution_count": 3,
   "id": "dc6f6c00-318a-42bb-881a-e350eeb118f4",
   "metadata": {},
   "outputs": [
    {
     "name": "stdout",
     "output_type": "stream",
     "text": [
      "please guess a number from 0 to 9\n"
     ]
    },
    {
     "name": "stdin",
     "output_type": "stream",
     "text": [
      " 5\n"
     ]
    },
    {
     "name": "stdout",
     "output_type": "stream",
     "text": [
      " You guessed too high \n",
      "please guess a number from 0 to 9\n"
     ]
    },
    {
     "name": "stdin",
     "output_type": "stream",
     "text": [
      " 3\n"
     ]
    },
    {
     "name": "stdout",
     "output_type": "stream",
     "text": [
      " You guessed too high \n",
      "please guess a number from 0 to 9\n"
     ]
    },
    {
     "name": "stdin",
     "output_type": "stream",
     "text": [
      " 2\n"
     ]
    },
    {
     "name": "stdout",
     "output_type": "stream",
     "text": [
      " You guessed too high \n",
      "please guess a number from 0 to 9\n"
     ]
    },
    {
     "name": "stdin",
     "output_type": "stream",
     "text": [
      " 1\n"
     ]
    },
    {
     "name": "stdout",
     "output_type": "stream",
     "text": [
      " You guessed too high \n",
      "please guess a number from 0 to 9\n"
     ]
    },
    {
     "name": "stdin",
     "output_type": "stream",
     "text": [
      " 0\n"
     ]
    },
    {
     "name": "stdout",
     "output_type": "stream",
     "text": [
      " Congratulations! You win \n",
      "you tried 5 times\n"
     ]
    }
   ],
   "source": [
    "import random\n",
    "cpt1=0\n",
    "cpt2=0\n",
    "\n",
    "y=12\n",
    "x=random.randint(0,9)\n",
    "while(y!=\"exit\")and(x!=y):\n",
    "   \n",
    "    print('please guess a number from 0 to 9')\n",
    "    y=int(input())\n",
    "    r=y-x\n",
    "    if r==0:\n",
    "        print(' Congratulations! You win ')\n",
    "    elif r<0:\n",
    "        print(' You guessed too low ')\n",
    "        cpt1+=1\n",
    "    else:\n",
    "        print(' You guessed too high ')\n",
    "        cpt2+=1\n",
    "print(f\"you tried {cpt1+cpt2+1} times\")\n"
   ]
  },
  {
   "cell_type": "code",
   "execution_count": 49,
   "id": "2a5acee8-da41-4529-b1d6-006d27253664",
   "metadata": {},
   "outputs": [
    {
     "name": "stdin",
     "output_type": "stream",
     "text": [
      "How strong do you want your password : type (weak) or (strong) dueor\n"
     ]
    },
    {
     "name": "stdout",
     "output_type": "stream",
     "text": [
      "Are you blind? we said (weak) or (strong)!!\n",
      "We suggest this password: \n"
     ]
    }
   ],
   "source": [
    "#Generating paswords\n",
    "import random as rd\n",
    "import string as st\n",
    "list1=['damage','breakdown','chrono','eraserhead']\n",
    "x=input('How strong do you want your password : type (weak) or (strong)')\n",
    "pwd=\"\"\n",
    "listt=st.ascii_letters\n",
    "if x=='weak':\n",
    "   print(rd.choice(list1))\n",
    "elif x=='strong':\n",
    "   l=rd.randint(8,15)\n",
    "   print(l)\n",
    "   for i in range(l):\n",
    "        theset=(str(rd.randint(0,9)),rd.choice(listt),rd.choice(st.punctuation))\n",
    "        r=rd.choice(theset)\n",
    "        pwd+=r\n",
    "else:\n",
    "        print('Are you blind? we said (weak) or (strong)!!')\n",
    "print (f\"We suggest this password:{pwd} \")              "
   ]
  },
  {
   "cell_type": "code",
   "execution_count": 196,
   "id": "413fd60d-661e-4a1f-b15f-396c6b173223",
   "metadata": {},
   "outputs": [
    {
     "name": "stdout",
     "output_type": "stream",
     "text": [
      "15.2\n",
      "5.1\n",
      "9.8\n"
     ]
    }
   ],
   "source": [
    "f = open(\"Temp.txt\", \"r\")\n",
    "tempmax=[]\n",
    "tempmin=[]\n",
    "preci=[]\n",
    "#data=[line.split(',') for line in f]\n",
    "for line in data:\n",
    "    \n",
    "    if(len(line)>2):\n",
    "        b=line[1]\n",
    "        c=line[2]\n",
    "        d=line[3]\n",
    "        tempmax.append(int(b))\n",
    "        tempmin.append(int(c))\n",
    "        preci.append(float(d))\n",
    "print(sum(tempmax)/10)\n",
    "print(sum(tempmin)/10)\n",
    "print(sum(preci))\n",
    " \n",
    "       "
   ]
  },
  {
   "cell_type": "code",
   "execution_count": 236,
   "id": "2f10a149-d170-4563-b14c-408b0c0b1714",
   "metadata": {},
   "outputs": [
    {
     "name": "stdout",
     "output_type": "stream",
     "text": [
      "[[3. 2. 7. 7. 7. 7. 2. 7. 1. 0. 2. 2. 5. 8. 1.]\n",
      " [2. 8. 8. 1. 0. 0. 6. 8. 0. 8. 0. 6. 2. 1. 1.]\n",
      " [6. 0. 3. 3. 7. 7. 8. 8. 0. 1. 3. 8. 5. 0. 1.]\n",
      " [5. 3. 6. 3. 7. 6. 7. 3. 3. 1. 3. 2. 1. 7. 1.]\n",
      " [1. 6. 2. 4. 5. 3. 2. 2. 1. 5. 0. 6. 1. 3. 1.]\n",
      " [1. 3. 4. 3. 0. 3. 7. 6. 1. 5. 3. 6. 5. 2. 1.]\n",
      " [1. 8. 3. 4. 8. 8. 1. 2. 3. 6. 8. 0. 5. 2. 1.]\n",
      " [1. 4. 1. 4. 2. 7. 0. 7. 3. 7. 2. 0. 2. 5. 1.]\n",
      " [3. 6. 0. 0. 1. 5. 3. 4. 5. 5. 0. 3. 0. 6. 1.]\n",
      " [4. 8. 7. 6. 7. 7. 3. 2. 1. 5. 4. 3. 1. 3. 1.]\n",
      " [0. 8. 8. 6. 3. 3. 1. 5. 1. 4. 5. 4. 0. 5. 1.]\n",
      " [8. 8. 2. 8. 7. 6. 3. 5. 2. 0. 7. 4. 3. 8. 1.]\n",
      " [0. 3. 7. 5. 5. 4. 5. 5. 5. 6. 4. 6. 1. 2. 1.]]\n"
     ]
    }
   ],
   "source": [
    "import numpy as np\n",
    "def initialisation(m,n):\n",
    "    arr = np.random.randint(0,9,[m, n])\n",
    "    arr1=np.ones((m,1))\n",
    "    x=np.concatenate((arr,arr1),axis=1)\n",
    "    return x\n",
    "    \n",
    "print(initialisation(13,14))\n",
    "\n",
    "\n",
    "    "
   ]
  },
  {
   "cell_type": "code",
   "execution_count": 246,
   "id": "aa75d80d-9b99-4130-ba1d-7a6dac6106fd",
   "metadata": {},
   "outputs": [
    {
     "name": "stdout",
     "output_type": "stream",
     "text": [
      "[[0. 0. 0. 0.]\n",
      " [0. 1. 1. 0.]\n",
      " [0. 1. 1. 0.]\n",
      " [0. 0. 0. 0.]]\n"
     ]
    }
   ],
   "source": [
    "B=np.zeros((4,4))\n",
    "B[1:3,1:3]=1\n",
    "print(B)"
   ]
  },
  {
   "cell_type": "code",
   "execution_count": 260,
   "id": "565a1a1e-8a10-4420-aa9d-67f57bc83d76",
   "metadata": {},
   "outputs": [
    {
     "name": "stdout",
     "output_type": "stream",
     "text": [
      "[[1. 0. 1. 0. 1. 0.]\n",
      " [0. 0. 0. 0. 0. 0.]\n",
      " [1. 0. 1. 0. 1. 0.]\n",
      " [0. 0. 0. 0. 0. 0.]\n",
      " [1. 0. 1. 0. 1. 0.]\n",
      " [0. 0. 0. 0. 0. 0.]]\n"
     ]
    }
   ],
   "source": [
    "C=np.zeros((6,6))\n",
    "C[::2,::2]=1\n",
    "print(C)"
   ]
  },
  {
   "cell_type": "code",
   "execution_count": 7,
   "id": "fa2b7a3f-9ad3-43e7-9419-2583ffbb26ab",
   "metadata": {
    "scrolled": true
   },
   "outputs": [
    {
     "ename": "TypeError",
     "evalue": "'str' object does not support item assignment",
     "output_type": "error",
     "traceback": [
      "\u001b[1;31m---------------------------------------------------------------------------\u001b[0m",
      "\u001b[1;31mTypeError\u001b[0m                                 Traceback (most recent call last)",
      "Cell \u001b[1;32mIn[7], line 11\u001b[0m\n\u001b[0;32m      9\u001b[0m                 x[\u001b[38;5;28mlen\u001b[39m(x)\u001b[38;5;241m-\u001b[39mj\u001b[38;5;241m-\u001b[39m\u001b[38;5;241m1\u001b[39m]\u001b[38;5;241m=\u001b[39my\n\u001b[0;32m     10\u001b[0m     \u001b[38;5;28;01mreturn\u001b[39;00m lst\n\u001b[1;32m---> 11\u001b[0m revst([\u001b[38;5;124m'\u001b[39m\u001b[38;5;124mert\u001b[39m\u001b[38;5;124m'\u001b[39m,\u001b[38;5;124m'\u001b[39m\u001b[38;5;124mzerty\u001b[39m\u001b[38;5;124m'\u001b[39m,\u001b[38;5;124m'\u001b[39m\u001b[38;5;124mazerty\u001b[39m\u001b[38;5;124m'\u001b[39m])\n",
      "Cell \u001b[1;32mIn[7], line 8\u001b[0m, in \u001b[0;36mrevst\u001b[1;34m(lst)\u001b[0m\n\u001b[0;32m      6\u001b[0m         \u001b[38;5;28;01mfor\u001b[39;00m j \u001b[38;5;129;01min\u001b[39;00m \u001b[38;5;28mrange\u001b[39m(\u001b[38;5;28mlen\u001b[39m(x)\u001b[38;5;241m/\u001b[39m\u001b[38;5;241m/\u001b[39m\u001b[38;5;241m2\u001b[39m):\n\u001b[0;32m      7\u001b[0m             y\u001b[38;5;241m=\u001b[39mx[j]\n\u001b[1;32m----> 8\u001b[0m             x[j]\u001b[38;5;241m=\u001b[39mx[\u001b[38;5;28mlen\u001b[39m(x)\u001b[38;5;241m-\u001b[39mj\u001b[38;5;241m-\u001b[39m\u001b[38;5;241m1\u001b[39m]\n\u001b[0;32m      9\u001b[0m             x[\u001b[38;5;28mlen\u001b[39m(x)\u001b[38;5;241m-\u001b[39mj\u001b[38;5;241m-\u001b[39m\u001b[38;5;241m1\u001b[39m]\u001b[38;5;241m=\u001b[39my\n\u001b[0;32m     10\u001b[0m \u001b[38;5;28;01mreturn\u001b[39;00m lst\n",
      "\u001b[1;31mTypeError\u001b[0m: 'str' object does not support item assignment"
     ]
    }
   ],
   "source": [
    "# ### 7. **Stop gninnipS My sdroW!**\n",
    "# Write a function that reverses every word in a string that is five or more characters long.\n",
    "def revst(lst):\n",
    "    for x in lst:\n",
    "        if len(x)>=5:\n",
    "            for j in range(len(x)//2):\n",
    "                y=x[j]\n",
    "                x[j]=x[len(x)-j-1]\n",
    "                x[len(x)-j-1]=y\n",
    "    return lst\n",
    "revst(['ert','zerty','azerty'])\n",
    "                \n",
    "                "
   ]
  },
  {
   "cell_type": "code",
   "execution_count": null,
   "id": "fd0c342e-8147-4d5d-9cf4-709f9da437bc",
   "metadata": {},
   "outputs": [],
   "source": []
  }
 ],
 "metadata": {
  "kernelspec": {
   "display_name": "Python 3 (ipykernel)",
   "language": "python",
   "name": "python3"
  },
  "language_info": {
   "codemirror_mode": {
    "name": "ipython",
    "version": 3
   },
   "file_extension": ".py",
   "mimetype": "text/x-python",
   "name": "python",
   "nbconvert_exporter": "python",
   "pygments_lexer": "ipython3",
   "version": "3.12.4"
  }
 },
 "nbformat": 4,
 "nbformat_minor": 5
}
